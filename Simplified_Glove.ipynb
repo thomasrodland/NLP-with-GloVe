{
 "cells": [
  {
   "cell_type": "markdown",
   "metadata": {},
   "source": [
    "## A notebook containing an implementation of the GloVe algorithm and visualization of the semantic space\n",
    "\n"
   ]
  },
  {
   "cell_type": "markdown",
   "metadata": {},
   "source": [
    "### Text processing"
   ]
  },
  {
   "cell_type": "code",
   "execution_count": 35,
   "metadata": {},
   "outputs": [],
   "source": [
    "import re\n",
    "\n",
    "def separate_sentences(file_path):\n",
    "    with open(file_path, 'r+') as file:\n",
    "        text = file.read()\n",
    "\n",
    "        # Split text into sentences\n",
    "        sentences = re.split(r'(?<=[.!?])\\s+', text)\n",
    "\n",
    "        # Move the file pointer to the beginning and truncate the file\n",
    "        file.seek(0)\n",
    "        file.truncate()\n",
    "\n",
    "        # Write the modified text to the same file\n",
    "        file.write('\\n'.join(sentences))\n",
    "\n",
    "# Example usage\n",
    "file_path = '/Users/Thomas/Downloads/corpus_viking.txt'  # Replace with the actual path to your text file,since user usually not thomas\n",
    "\n",
    "separate_sentences(file_path)\n",
    "\n"
   ]
  },
  {
   "cell_type": "markdown",
   "metadata": {},
   "source": [
    "### Algorithm"
   ]
  },
  {
   "cell_type": "code",
   "execution_count": 63,
   "metadata": {},
   "outputs": [
    {
     "name": "stdout",
     "output_type": "stream",
     "text": [
      "Epoch 1/100 - Loss: 2604.935225463414\n",
      "Epoch 2/100 - Loss: 1478.643796745575\n",
      "Epoch 3/100 - Loss: 1237.6172461146834\n",
      "Epoch 4/100 - Loss: 1062.9033475530066\n",
      "Epoch 5/100 - Loss: 936.8137074895841\n",
      "Epoch 6/100 - Loss: 844.1864180002931\n",
      "Epoch 7/100 - Loss: 769.8978695852024\n",
      "Epoch 8/100 - Loss: 706.5272663683583\n",
      "Epoch 9/100 - Loss: 650.2393378797625\n",
      "Epoch 10/100 - Loss: 600.5896594985865\n",
      "Epoch 11/100 - Loss: 558.3000439000646\n",
      "Epoch 12/100 - Loss: 522.6416536980105\n",
      "Epoch 13/100 - Loss: 491.8171528175977\n",
      "Epoch 14/100 - Loss: 464.3875451618399\n",
      "Epoch 15/100 - Loss: 439.55000145296157\n",
      "Epoch 16/100 - Loss: 416.8654221133543\n",
      "Epoch 17/100 - Loss: 396.03662613719894\n",
      "Epoch 18/100 - Loss: 376.7958552213958\n",
      "Epoch 19/100 - Loss: 358.87901572670586\n",
      "Epoch 20/100 - Loss: 342.05153109209107\n",
      "Epoch 21/100 - Loss: 326.1398781924161\n",
      "Epoch 22/100 - Loss: 311.04478369896304\n",
      "Epoch 23/100 - Loss: 296.7360225357368\n",
      "Epoch 24/100 - Loss: 283.2348193118983\n",
      "Epoch 25/100 - Loss: 270.5881395721109\n",
      "Epoch 26/100 - Loss: 258.84001843775997\n",
      "Epoch 27/100 - Loss: 248.0077079544907\n",
      "Epoch 28/100 - Loss: 238.06992434272837\n",
      "Epoch 29/100 - Loss: 228.96936737577346\n",
      "Epoch 30/100 - Loss: 220.6253628553061\n",
      "Epoch 31/100 - Loss: 212.94936232979887\n",
      "Epoch 32/100 - Loss: 205.85734137465695\n",
      "Epoch 33/100 - Loss: 199.27666692164894\n",
      "Epoch 34/100 - Loss: 193.1479953095\n",
      "Epoch 35/100 - Loss: 187.42405303532317\n",
      "Epoch 36/100 - Loss: 182.06709530655357\n",
      "Epoch 37/100 - Loss: 177.04623296335942\n",
      "Epoch 38/100 - Loss: 172.33521264693172\n",
      "Epoch 39/100 - Loss: 167.9108235615206\n",
      "Epoch 40/100 - Loss: 163.7518850314916\n",
      "Epoch 41/100 - Loss: 159.83868186529926\n",
      "Epoch 42/100 - Loss: 156.15270201764562\n",
      "Epoch 43/100 - Loss: 152.67655333320215\n",
      "Epoch 44/100 - Loss: 149.3939691439747\n",
      "Epoch 45/100 - Loss: 146.2898436077927\n",
      "Epoch 46/100 - Loss: 143.35026205225063\n",
      "Epoch 47/100 - Loss: 140.5625087480874\n",
      "Epoch 48/100 - Loss: 137.91504582351664\n",
      "Epoch 49/100 - Loss: 135.39746406259593\n",
      "Epoch 50/100 - Loss: 133.00041037352955\n",
      "Epoch 51/100 - Loss: 130.7154986351116\n",
      "Epoch 52/100 - Loss: 128.53521104974442\n",
      "Epoch 53/100 - Loss: 126.452796546113\n",
      "Epoch 54/100 - Loss: 124.46217160708007\n",
      "Epoch 55/100 - Loss: 122.5578274944318\n",
      "Epoch 56/100 - Loss: 120.73474645441789\n",
      "Epoch 57/100 - Loss: 118.98832827292522\n",
      "Epoch 58/100 - Loss: 117.31432757975858\n",
      "Epoch 59/100 - Loss: 115.70880159060725\n",
      "Epoch 60/100 - Loss: 114.16806749912416\n",
      "Epoch 61/100 - Loss: 112.68866844919232\n",
      "Epoch 62/100 - Loss: 111.26734688450891\n",
      "Epoch 63/100 - Loss: 109.90102404816388\n",
      "Epoch 64/100 - Loss: 108.58678445485009\n",
      "Epoch 65/100 - Loss: 107.32186425617168\n",
      "Epoch 66/100 - Loss: 106.10364254476931\n",
      "Epoch 67/100 - Loss: 104.92963478108011\n",
      "Epoch 68/100 - Loss: 103.79748766652588\n",
      "Epoch 69/100 - Loss: 102.70497492135817\n",
      "Epoch 70/100 - Loss: 101.6499935491388\n",
      "Epoch 71/100 - Loss: 100.63056027966982\n",
      "Epoch 72/100 - Loss: 99.64480797656086\n",
      "Epoch 73/100 - Loss: 98.69098187387782\n",
      "Epoch 74/100 - Loss: 97.76743556915599\n",
      "Epoch 75/100 - Loss: 96.87262674832603\n",
      "Epoch 76/100 - Loss: 96.00511265362405\n",
      "Epoch 77/100 - Loss: 95.16354532994838\n",
      "Epoch 78/100 - Loss: 94.34666670037642\n",
      "Epoch 79/100 - Loss: 93.55330352950779\n",
      "Epoch 80/100 - Loss: 92.78236233562298\n",
      "Epoch 81/100 - Loss: 92.03282431087392\n",
      "Epoch 82/100 - Loss: 91.30374030417136\n",
      "Epoch 83/100 - Loss: 90.59422591506238\n",
      "Epoch 84/100 - Loss: 89.90345673963917\n",
      "Epoch 85/100 - Loss: 89.23066380193248\n",
      "Epoch 86/100 - Loss: 88.57512919680175\n",
      "Epoch 87/100 - Loss: 87.93618196333723\n",
      "Epoch 88/100 - Loss: 87.31319420144852\n",
      "Epoch 89/100 - Loss: 86.70557743871602\n",
      "Epoch 90/100 - Loss: 86.11277924974623\n",
      "Epoch 91/100 - Loss: 85.53428012623989\n",
      "Epoch 92/100 - Loss: 84.96959059264901\n",
      "Epoch 93/100 - Loss: 84.41824855970283\n",
      "Epoch 94/100 - Loss: 83.87981690598538\n",
      "Epoch 95/100 - Loss: 83.35388127631872\n",
      "Epoch 96/100 - Loss: 82.8400480846114\n",
      "Epoch 97/100 - Loss: 82.33794270821194\n",
      "Epoch 98/100 - Loss: 81.84720786048162\n",
      "Epoch 99/100 - Loss: 81.36750212824852\n",
      "Epoch 100/100 - Loss: 80.89849866096657\n"
     ]
    }
   ],
   "source": [
    "import numpy as np\n",
    "from collections import defaultdict\n",
    "\n",
    "\n",
    "def build_cooccurrence_matrix(corpus, window_size):\n",
    "    vocab = {}\n",
    "    cooc_matrix = defaultdict(float)\n",
    "\n",
    "    for sentence in corpus:\n",
    "        words = sentence.strip().split()\n",
    "        for i, word in enumerate(words):\n",
    "            if word not in vocab:\n",
    "                vocab[word] = len(vocab)\n",
    "\n",
    "            for j in range(max(0, i - window_size), min(len(words), i + window_size + 1)):\n",
    "                if i != j:\n",
    "                    context_word = words[j]\n",
    "                    if context_word not in vocab:\n",
    "                        vocab[context_word] = len(vocab)\n",
    "\n",
    "                    word_idx = vocab[word]\n",
    "                    context_word_idx = vocab[context_word]\n",
    "                    cooc_matrix[(word_idx, context_word_idx)] += 1\n",
    "                    cooc_matrix[(context_word_idx, word_idx)] += 1\n",
    "\n",
    "    vocab_size = len(vocab)\n",
    "    cooc_matrix = np.array([(i, j, cooc_matrix[(i, j)]) for (i, j) in cooc_matrix.keys()], dtype=np.float64)\n",
    "\n",
    "    return cooc_matrix, vocab\n",
    "\n",
    "\n",
    "def train_glove(corpus, embedding_size, window_size, learning_rate, epochs):\n",
    "    cooc_matrix, vocab = build_cooccurrence_matrix(corpus, window_size)\n",
    "\n",
    "    vocab_size = len(vocab)\n",
    "    W = np.random.uniform(-0.5 / embedding_size, 0.5 / embedding_size, (vocab_size, embedding_size))\n",
    "    biases = np.random.uniform(-0.5 / embedding_size, 0.5 / embedding_size, vocab_size)\n",
    "\n",
    "    for epoch in range(epochs):\n",
    "        total_loss = 0\n",
    "        for i, j, cooc in cooc_matrix:\n",
    "            i = int(i)  # Convert indices to integers\n",
    "            j = int(j)\n",
    "            weight = (cooc / window_size) ** 0.75 if cooc > 0 else 0\n",
    "            diff = np.dot(W[i], W[j]) + biases[i] + biases[j] - np.log(cooc) #equation 8 from the paper.\n",
    "            total_loss += 0.5 * weight * diff ** 2\n",
    "\n",
    "            W[i] -= learning_rate * weight * diff * W[j]\n",
    "            W[j] -= learning_rate * weight * diff * W[i]\n",
    "            biases[i] -= learning_rate * weight * diff\n",
    "            biases[j] -= learning_rate * weight * diff\n",
    "\n",
    "        print(f\"Epoch {epoch + 1}/{epochs} - Loss: {total_loss}\")\n",
    "\n",
    "    return W, vocab\n",
    "\n",
    "\n",
    "# Example usage\n",
    "corpus_file = '/Users/Thomas/Downloads/corpus_viking.txt'  \n",
    "with open(corpus_file, 'r') as f:\n",
    "    corpus = [line.strip() for line in f]\n",
    "\n",
    "embedding_size = 10\n",
    "window_size = 2\n",
    "learning_rate = 0.01\n",
    "epochs = 100\n",
    "\n",
    "W_viking, vocab_viking = train_glove(corpus, embedding_size, window_size, learning_rate, epochs)\n",
    "\n",
    "# Get word embeddings\n",
    "word_embeddings_viking = {word: W_viking[idx] for word, idx in vocab_viking.items()}\n"
   ]
  },
  {
   "cell_type": "markdown",
   "metadata": {},
   "source": [
    "### Visualization"
   ]
  },
  {
   "cell_type": "code",
   "execution_count": 113,
   "metadata": {},
   "outputs": [
    {
     "data": {
      "image/png": "[encoded data removed]",
      "text/plain": [
       "<Figure size 576x576 with 1 Axes>"
      ]
     },
     "metadata": {
      "needs_background": "light"
     },
     "output_type": "display_data"
    }
   ],
   "source": [
    "import matplotlib.pyplot as plt\n",
    "from scipy.spatial import distance\n",
    "\n",
    "def plot_word_embeddings3(word_embeddings, words):\n",
    "    fig, ax = plt.subplots(figsize=(8, 8))\n",
    "#simple plotting function to visualize the semantic space with the use of nearest neighbor\n",
    "    # Plot the specified words and annotate them\n",
    "    for word in words:\n",
    "        embedding = word_embeddings.get(word)\n",
    "        if embedding is not None:\n",
    "            ax.annotate(word, (embedding[0], embedding[1]))\n",
    "\n",
    "    # Find and plot nearest neighbors for each specified word\n",
    "    for word in words:\n",
    "        embedding = word_embeddings.get(word)\n",
    "        if embedding is not None:\n",
    "            distances = [(w, distance.euclidean(embedding, emb)) for w, emb in word_embeddings.items() if w != word]\n",
    "            nearest_neighbors = sorted(distances, key=lambda x: x[1])[:1]  # Change 3 to the desired number of neighbors\n",
    "\n",
    "            for neighbor, _ in nearest_neighbors:\n",
    "                neighbor_embedding = word_embeddings.get(neighbor)\n",
    "                if neighbor_embedding is not None:\n",
    "                    ax.plot([embedding[0], neighbor_embedding[0]], [embedding[1], neighbor_embedding[1]], 'k--', alpha=0.5)\n",
    "                    ax.annotate(neighbor, (neighbor_embedding[0], neighbor_embedding[1]))\n",
    "\n",
    "    plt.xlabel(\"Dimension 1\")\n",
    "    plt.ylabel(\"Dimension 2\")\n",
    "    plt.title(\"Word Embeddings with Nearest Neighbors\")\n",
    "    plt.savefig('GloVe_NN_plot.png')\n",
    "    plt.show()\n",
    "    \n",
    "words_to_plot2 = ['konge', 'gård', 'skip','religion','Lindisfarne', 'Gulating',]\n",
    "plot_word_embeddings3(word_embeddings_viking, words_to_plot2)"
   ]
  },
  {
   "cell_type": "markdown",
   "metadata": {},
   "source": [
    "## Distance between words"
   ]
  },
  {
   "cell_type": "code",
   "execution_count": 115,
   "metadata": {},
   "outputs": [
    {
     "name": "stdout",
     "output_type": "stream",
     "text": [
      "         Word  Distance\n",
      "1       liten  0.414556\n",
      "2       gifte  0.417302\n",
      "3         enn  0.417847\n",
      "4      Norden  0.424852\n",
      "5  samfunnet,  0.430038\n"
     ]
    }
   ],
   "source": [
    "import pandas as pd\n",
    "from scipy.spatial import distance\n",
    "\n",
    "def find_closest_words(word_embeddings, target_word):\n",
    "    distances = [(word, distance.euclidean(embedding, word_embeddings[target_word])) for word, embedding in word_embeddings.items()]\n",
    "    sorted_distances = sorted(distances, key=lambda x: x[1])[1:6]  # Exclude the target word itself and select the five closest words\n",
    "\n",
    "    word_list = [pair[0] for pair in sorted_distances]\n",
    "    distance_list = [pair[1] for pair in sorted_distances]\n",
    "\n",
    "    df = pd.DataFrame({'Word': word_list, 'Distance': distance_list})\n",
    "    df.index = range(1, len(df) + 1)  # Set the index starting from 1\n",
    "\n",
    "    return df\n",
    "\n",
    "target_word = 'Sverige' #here you choose the desired target word\n",
    "closest_words_table = find_closest_words(word_embeddings_viking, target_word)\n",
    "print(closest_words_table)\n",
    "\n"
   ]
  },
  {
   "cell_type": "markdown",
   "metadata": {},
   "source": [
    "Due to a lack of a small corpus the results here are not to satisfying, using a bigger orpus would yield better results."
   ]
  }
 ],
 "metadata": {
  "kernelspec": {
   "display_name": "Python 3 (ipykernel)",
   "language": "python",
   "name": "python3"
  },
  "language_info": {
   "codemirror_mode": {
    "name": "ipython",
    "version": 3
   },
   "file_extension": ".py",
   "mimetype": "text/x-python",
   "name": "python",
   "nbconvert_exporter": "python",
   "pygments_lexer": "ipython3",
   "version": "3.9.5"
  }
 },
 "nbformat": 4,
 "nbformat_minor": 2
}
